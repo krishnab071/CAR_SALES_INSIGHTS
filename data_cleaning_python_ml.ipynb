{
 "cells": [
  {
   "cell_type": "code",
   "execution_count": 1,
   "id": "187b0e3d-db0d-43d9-8571-712311c531ee",
   "metadata": {},
   "outputs": [
    {
     "name": "stdout",
     "output_type": "stream",
     "text": [
      "Requirement already satisfied: pandas in /opt/anaconda3/lib/python3.11/site-packages (2.1.4)\n",
      "Requirement already satisfied: numpy<2,>=1.23.2 in /opt/anaconda3/lib/python3.11/site-packages (from pandas) (1.26.4)\n",
      "Requirement already satisfied: python-dateutil>=2.8.2 in /opt/anaconda3/lib/python3.11/site-packages (from pandas) (2.8.2)\n",
      "Requirement already satisfied: pytz>=2020.1 in /opt/anaconda3/lib/python3.11/site-packages (from pandas) (2023.3.post1)\n",
      "Requirement already satisfied: tzdata>=2022.1 in /opt/anaconda3/lib/python3.11/site-packages (from pandas) (2023.3)\n",
      "Requirement already satisfied: six>=1.5 in /opt/anaconda3/lib/python3.11/site-packages (from python-dateutil>=2.8.2->pandas) (1.16.0)\n",
      "Note: you may need to restart the kernel to use updated packages.\n"
     ]
    }
   ],
   "source": [
    "pip install pandas"
   ]
  },
  {
   "cell_type": "code",
   "execution_count": 2,
   "id": "67c9c859-5485-4437-a815-4ebb3566fd8f",
   "metadata": {},
   "outputs": [
    {
     "name": "stdout",
     "output_type": "stream",
     "text": [
      "Requirement already satisfied: matplotlib in /opt/anaconda3/lib/python3.11/site-packages (3.8.0)\n",
      "Requirement already satisfied: contourpy>=1.0.1 in /opt/anaconda3/lib/python3.11/site-packages (from matplotlib) (1.2.0)\n",
      "Requirement already satisfied: cycler>=0.10 in /opt/anaconda3/lib/python3.11/site-packages (from matplotlib) (0.11.0)\n",
      "Requirement already satisfied: fonttools>=4.22.0 in /opt/anaconda3/lib/python3.11/site-packages (from matplotlib) (4.25.0)\n",
      "Requirement already satisfied: kiwisolver>=1.0.1 in /opt/anaconda3/lib/python3.11/site-packages (from matplotlib) (1.4.4)\n",
      "Requirement already satisfied: numpy<2,>=1.21 in /opt/anaconda3/lib/python3.11/site-packages (from matplotlib) (1.26.4)\n",
      "Requirement already satisfied: packaging>=20.0 in /opt/anaconda3/lib/python3.11/site-packages (from matplotlib) (23.1)\n",
      "Requirement already satisfied: pillow>=6.2.0 in /opt/anaconda3/lib/python3.11/site-packages (from matplotlib) (10.2.0)\n",
      "Requirement already satisfied: pyparsing>=2.3.1 in /opt/anaconda3/lib/python3.11/site-packages (from matplotlib) (3.0.9)\n",
      "Requirement already satisfied: python-dateutil>=2.7 in /opt/anaconda3/lib/python3.11/site-packages (from matplotlib) (2.8.2)\n",
      "Requirement already satisfied: six>=1.5 in /opt/anaconda3/lib/python3.11/site-packages (from python-dateutil>=2.7->matplotlib) (1.16.0)\n",
      "Note: you may need to restart the kernel to use updated packages.\n"
     ]
    }
   ],
   "source": [
    "pip install matplotlib"
   ]
  },
  {
   "cell_type": "code",
   "execution_count": 1,
   "id": "7d6496a2-d209-4c71-8e19-9dd6832375c6",
   "metadata": {},
   "outputs": [
    {
     "name": "stdout",
     "output_type": "stream",
     "text": [
      "Requirement already satisfied: seaborn in /opt/anaconda3/lib/python3.11/site-packages (0.12.2)\n",
      "Requirement already satisfied: numpy!=1.24.0,>=1.17 in /opt/anaconda3/lib/python3.11/site-packages (from seaborn) (1.26.4)\n",
      "Requirement already satisfied: pandas>=0.25 in /opt/anaconda3/lib/python3.11/site-packages (from seaborn) (2.1.4)\n",
      "Requirement already satisfied: matplotlib!=3.6.1,>=3.1 in /opt/anaconda3/lib/python3.11/site-packages (from seaborn) (3.8.0)\n",
      "Requirement already satisfied: contourpy>=1.0.1 in /opt/anaconda3/lib/python3.11/site-packages (from matplotlib!=3.6.1,>=3.1->seaborn) (1.2.0)\n",
      "Requirement already satisfied: cycler>=0.10 in /opt/anaconda3/lib/python3.11/site-packages (from matplotlib!=3.6.1,>=3.1->seaborn) (0.11.0)\n",
      "Requirement already satisfied: fonttools>=4.22.0 in /opt/anaconda3/lib/python3.11/site-packages (from matplotlib!=3.6.1,>=3.1->seaborn) (4.25.0)\n",
      "Requirement already satisfied: kiwisolver>=1.0.1 in /opt/anaconda3/lib/python3.11/site-packages (from matplotlib!=3.6.1,>=3.1->seaborn) (1.4.4)\n",
      "Requirement already satisfied: packaging>=20.0 in /opt/anaconda3/lib/python3.11/site-packages (from matplotlib!=3.6.1,>=3.1->seaborn) (23.1)\n",
      "Requirement already satisfied: pillow>=6.2.0 in /opt/anaconda3/lib/python3.11/site-packages (from matplotlib!=3.6.1,>=3.1->seaborn) (10.2.0)\n",
      "Requirement already satisfied: pyparsing>=2.3.1 in /opt/anaconda3/lib/python3.11/site-packages (from matplotlib!=3.6.1,>=3.1->seaborn) (3.0.9)\n",
      "Requirement already satisfied: python-dateutil>=2.7 in /opt/anaconda3/lib/python3.11/site-packages (from matplotlib!=3.6.1,>=3.1->seaborn) (2.8.2)\n",
      "Requirement already satisfied: pytz>=2020.1 in /opt/anaconda3/lib/python3.11/site-packages (from pandas>=0.25->seaborn) (2023.3.post1)\n",
      "Requirement already satisfied: tzdata>=2022.1 in /opt/anaconda3/lib/python3.11/site-packages (from pandas>=0.25->seaborn) (2023.3)\n",
      "Requirement already satisfied: six>=1.5 in /opt/anaconda3/lib/python3.11/site-packages (from python-dateutil>=2.7->matplotlib!=3.6.1,>=3.1->seaborn) (1.16.0)\n",
      "Note: you may need to restart the kernel to use updated packages.\n"
     ]
    }
   ],
   "source": [
    "pip install seaborn"
   ]
  },
  {
   "cell_type": "code",
   "execution_count": 1,
   "id": "2512a306-da21-4763-a7e3-c98cb4b0b1ba",
   "metadata": {},
   "outputs": [
    {
     "name": "stdout",
     "output_type": "stream",
     "text": [
      "Requirement already satisfied: scikit-learn in /opt/anaconda3/lib/python3.11/site-packages (1.2.2)\n",
      "Requirement already satisfied: numpy>=1.17.3 in /opt/anaconda3/lib/python3.11/site-packages (from scikit-learn) (1.26.4)\n",
      "Requirement already satisfied: scipy>=1.3.2 in /opt/anaconda3/lib/python3.11/site-packages (from scikit-learn) (1.11.4)\n",
      "Requirement already satisfied: joblib>=1.1.1 in /opt/anaconda3/lib/python3.11/site-packages (from scikit-learn) (1.2.0)\n",
      "Requirement already satisfied: threadpoolctl>=2.0.0 in /opt/anaconda3/lib/python3.11/site-packages (from scikit-learn) (2.2.0)\n",
      "Note: you may need to restart the kernel to use updated packages.\n"
     ]
    }
   ],
   "source": [
    "pip install scikit-learn\n"
   ]
  },
  {
   "cell_type": "code",
   "execution_count": 1,
   "id": "d27ade2b-a3a4-4c3f-8cad-a65eecae0b0a",
   "metadata": {},
   "outputs": [],
   "source": [
    "import pandas as pd\n",
    "import matplotlib.pyplot as plt\n",
    "import seaborn as sns"
   ]
  },
  {
   "cell_type": "code",
   "execution_count": 326,
   "id": "04e8f3e0-7ae9-4193-b5b6-f170ecd929eb",
   "metadata": {},
   "outputs": [],
   "source": [
    "db=pd.read_csv('car_price.csv')"
   ]
  },
  {
   "cell_type": "code",
   "execution_count": 327,
   "id": "5596b247-25cc-4a77-b516-9451588b4083",
   "metadata": {},
   "outputs": [
    {
     "data": {
      "text/html": [
       "<div>\n",
       "<style scoped>\n",
       "    .dataframe tbody tr th:only-of-type {\n",
       "        vertical-align: middle;\n",
       "    }\n",
       "\n",
       "    .dataframe tbody tr th {\n",
       "        vertical-align: top;\n",
       "    }\n",
       "\n",
       "    .dataframe thead th {\n",
       "        text-align: right;\n",
       "    }\n",
       "</style>\n",
       "<table border=\"1\" class=\"dataframe\">\n",
       "  <thead>\n",
       "    <tr style=\"text-align: right;\">\n",
       "      <th></th>\n",
       "      <th>Unnamed: 0</th>\n",
       "      <th>Brand</th>\n",
       "      <th>Model</th>\n",
       "      <th>Varient</th>\n",
       "      <th>Manufacture Year</th>\n",
       "      <th>Driven Kilometers</th>\n",
       "      <th>Fuel</th>\n",
       "      <th>Number of Owner</th>\n",
       "      <th>Body Type</th>\n",
       "      <th>Location</th>\n",
       "      <th>Price</th>\n",
       "    </tr>\n",
       "  </thead>\n",
       "  <tbody>\n",
       "    <tr>\n",
       "      <th>0</th>\n",
       "      <td>0</td>\n",
       "      <td>Maruti</td>\n",
       "      <td>Zen</td>\n",
       "      <td>Estilo LXI</td>\n",
       "      <td>2011</td>\n",
       "      <td>24,337km</td>\n",
       "      <td>Petrol</td>\n",
       "      <td>First Owner</td>\n",
       "      <td>Hatchback</td>\n",
       "      <td>Delhi</td>\n",
       "      <td>210499.0</td>\n",
       "    </tr>\n",
       "    <tr>\n",
       "      <th>1</th>\n",
       "      <td>1</td>\n",
       "      <td>Maruti</td>\n",
       "      <td>Alto</td>\n",
       "      <td>K10 VXI</td>\n",
       "      <td>2018</td>\n",
       "      <td>5,198km</td>\n",
       "      <td>Petrol</td>\n",
       "      <td>First Owner</td>\n",
       "      <td>Hatchback</td>\n",
       "      <td>Delhi</td>\n",
       "      <td>343799.0</td>\n",
       "    </tr>\n",
       "    <tr>\n",
       "      <th>2</th>\n",
       "      <td>2</td>\n",
       "      <td>Maruti</td>\n",
       "      <td>Celerio</td>\n",
       "      <td>VXI AMT</td>\n",
       "      <td>2015</td>\n",
       "      <td>27,739km</td>\n",
       "      <td>Petrol</td>\n",
       "      <td>First Owner</td>\n",
       "      <td>Hatchback</td>\n",
       "      <td>Delhi</td>\n",
       "      <td>371199.0</td>\n",
       "    </tr>\n",
       "    <tr>\n",
       "      <th>3</th>\n",
       "      <td>3</td>\n",
       "      <td>Hyundai</td>\n",
       "      <td>i20</td>\n",
       "      <td>SPORTZ 1.2 VTVT</td>\n",
       "      <td>2014</td>\n",
       "      <td>25,187km</td>\n",
       "      <td>Petrol</td>\n",
       "      <td>First Owner</td>\n",
       "      <td>Hatchback</td>\n",
       "      <td>Delhi</td>\n",
       "      <td>360099.0</td>\n",
       "    </tr>\n",
       "    <tr>\n",
       "      <th>4</th>\n",
       "      <td>4</td>\n",
       "      <td>Maruti</td>\n",
       "      <td>S</td>\n",
       "      <td>PRESSO VXI PLUS</td>\n",
       "      <td>2020</td>\n",
       "      <td>7,556km</td>\n",
       "      <td>Petrol</td>\n",
       "      <td>First Owner</td>\n",
       "      <td>Hatchback</td>\n",
       "      <td>Delhi</td>\n",
       "      <td>415999.0</td>\n",
       "    </tr>\n",
       "  </tbody>\n",
       "</table>\n",
       "</div>"
      ],
      "text/plain": [
       "   Unnamed: 0    Brand    Model          Varient  Manufacture Year  \\\n",
       "0           0   Maruti      Zen       Estilo LXI              2011   \n",
       "1           1   Maruti     Alto          K10 VXI              2018   \n",
       "2           2   Maruti  Celerio          VXI AMT              2015   \n",
       "3           3  Hyundai      i20  SPORTZ 1.2 VTVT              2014   \n",
       "4           4   Maruti        S  PRESSO VXI PLUS              2020   \n",
       "\n",
       "  Driven Kilometers    Fuel Number of Owner  Body Type Location     Price  \n",
       "0          24,337km  Petrol     First Owner  Hatchback    Delhi  210499.0  \n",
       "1           5,198km  Petrol     First Owner  Hatchback    Delhi  343799.0  \n",
       "2          27,739km  Petrol     First Owner  Hatchback    Delhi  371199.0  \n",
       "3          25,187km  Petrol     First Owner  Hatchback    Delhi  360099.0  \n",
       "4           7,556km  Petrol     First Owner  Hatchback    Delhi  415999.0  "
      ]
     },
     "execution_count": 327,
     "metadata": {},
     "output_type": "execute_result"
    }
   ],
   "source": [
    "db.head()"
   ]
  },
  {
   "cell_type": "code",
   "execution_count": 328,
   "id": "c0f4cc97-02f8-4b40-8a3e-a899c9045e6d",
   "metadata": {},
   "outputs": [
    {
     "name": "stdout",
     "output_type": "stream",
     "text": [
      "<class 'pandas.core.frame.DataFrame'>\n",
      "RangeIndex: 10083 entries, 0 to 10082\n",
      "Data columns (total 11 columns):\n",
      " #   Column             Non-Null Count  Dtype  \n",
      "---  ------             --------------  -----  \n",
      " 0   Unnamed: 0         10083 non-null  int64  \n",
      " 1   Brand              10083 non-null  object \n",
      " 2   Model              10083 non-null  object \n",
      " 3   Varient            10083 non-null  object \n",
      " 4   Manufacture Year   10083 non-null  int64  \n",
      " 5   Driven Kilometers  10083 non-null  object \n",
      " 6   Fuel               10083 non-null  object \n",
      " 7   Number of Owner    10083 non-null  object \n",
      " 8   Body Type          10083 non-null  object \n",
      " 9   Location           10083 non-null  object \n",
      " 10  Price              10083 non-null  float64\n",
      "dtypes: float64(1), int64(2), object(8)\n",
      "memory usage: 866.6+ KB\n"
     ]
    }
   ],
   "source": [
    "db.info()"
   ]
  },
  {
   "cell_type": "code",
   "execution_count": 329,
   "id": "7508f78a-a34f-47f4-b96e-acd865199def",
   "metadata": {},
   "outputs": [
    {
     "data": {
      "text/plain": [
       "Unnamed: 0           0\n",
       "Brand                0\n",
       "Model                0\n",
       "Varient              0\n",
       "Manufacture Year     0\n",
       "Driven Kilometers    0\n",
       "Fuel                 0\n",
       "Number of Owner      0\n",
       "Body Type            0\n",
       "Location             0\n",
       "Price                0\n",
       "dtype: int64"
      ]
     },
     "execution_count": 329,
     "metadata": {},
     "output_type": "execute_result"
    }
   ],
   "source": [
    "db.isnull().sum()"
   ]
  },
  {
   "cell_type": "code",
   "execution_count": 330,
   "id": "50649c0c-29e2-4054-9acf-44117a7953ec",
   "metadata": {},
   "outputs": [
    {
     "data": {
      "text/plain": [
       "(10083, 11)"
      ]
     },
     "execution_count": 330,
     "metadata": {},
     "output_type": "execute_result"
    }
   ],
   "source": [
    "db.shape"
   ]
  },
  {
   "cell_type": "code",
   "execution_count": 331,
   "id": "73c20d88-e106-4ca3-b42d-76248fd28bfc",
   "metadata": {},
   "outputs": [
    {
     "data": {
      "text/plain": [
       "Index(['Unnamed: 0', 'Brand', 'Model', 'Varient', 'Manufacture Year',\n",
       "       'Driven Kilometers', 'Fuel', 'Number of Owner', 'Body Type', 'Location',\n",
       "       'Price'],\n",
       "      dtype='object')"
      ]
     },
     "execution_count": 331,
     "metadata": {},
     "output_type": "execute_result"
    }
   ],
   "source": [
    "db.columns"
   ]
  },
  {
   "cell_type": "markdown",
   "id": "a262faa1-2f1e-415f-b961-e20700239c2c",
   "metadata": {},
   "source": [
    "DATA CLEANING\n"
   ]
  },
  {
   "cell_type": "code",
   "execution_count": 332,
   "id": "4422a53f-926b-4a5b-a037-b599d2325fce",
   "metadata": {},
   "outputs": [],
   "source": [
    "db = db.rename(columns={'Unnamed: 0': 'index'})"
   ]
  },
  {
   "cell_type": "code",
   "execution_count": 333,
   "id": "4b80d8a1-1806-4dc4-9b2c-ae31fc0122b4",
   "metadata": {},
   "outputs": [],
   "source": [
    "db.columns=db.columns.str.lower()\n",
    "db.columns=db.columns.str.replace(' ','_') "
   ]
  },
  {
   "cell_type": "code",
   "execution_count": 334,
   "id": "580b4515-0e98-4c8d-a06b-494312605313",
   "metadata": {},
   "outputs": [
    {
     "data": {
      "text/plain": [
       "Index(['index', 'brand', 'model', 'varient', 'manufacture_year',\n",
       "       'driven_kilometers', 'fuel', 'number_of_owner', 'body_type', 'location',\n",
       "       'price'],\n",
       "      dtype='object')"
      ]
     },
     "execution_count": 334,
     "metadata": {},
     "output_type": "execute_result"
    }
   ],
   "source": [
    "db.columns\n"
   ]
  },
  {
   "cell_type": "code",
   "execution_count": null,
   "id": "3550809e-4ce2-4afd-8d3c-78f061511c3c",
   "metadata": {},
   "outputs": [],
   "source": []
  },
  {
   "cell_type": "code",
   "execution_count": 335,
   "id": "7b5490c7-c8bf-48a2-9b67-0c63fb25872f",
   "metadata": {},
   "outputs": [],
   "source": [
    "db['driven_kilometers']=(db['driven_kilometers']).astype('string')"
   ]
  },
  {
   "cell_type": "code",
   "execution_count": 336,
   "id": "551103a3-ca5c-4f1a-b720-cf8ead66fda1",
   "metadata": {},
   "outputs": [
    {
     "name": "stdout",
     "output_type": "stream",
     "text": [
      "<class 'pandas.core.frame.DataFrame'>\n",
      "RangeIndex: 10083 entries, 0 to 10082\n",
      "Data columns (total 11 columns):\n",
      " #   Column             Non-Null Count  Dtype  \n",
      "---  ------             --------------  -----  \n",
      " 0   index              10083 non-null  int64  \n",
      " 1   brand              10083 non-null  object \n",
      " 2   model              10083 non-null  object \n",
      " 3   varient            10083 non-null  object \n",
      " 4   manufacture_year   10083 non-null  int64  \n",
      " 5   driven_kilometers  10083 non-null  string \n",
      " 6   fuel               10083 non-null  object \n",
      " 7   number_of_owner    10083 non-null  object \n",
      " 8   body_type          10083 non-null  object \n",
      " 9   location           10083 non-null  object \n",
      " 10  price              10083 non-null  float64\n",
      "dtypes: float64(1), int64(2), object(7), string(1)\n",
      "memory usage: 866.6+ KB\n"
     ]
    }
   ],
   "source": [
    "db.info()"
   ]
  },
  {
   "cell_type": "code",
   "execution_count": 337,
   "id": "ee31586a-cdf8-4b40-b7cc-8e55a0204aa7",
   "metadata": {},
   "outputs": [],
   "source": [
    "def split_distance(value):\n",
    "    x=''\n",
    "    for i in value:\n",
    "        if ord(i)<=57 :\n",
    "            x+=i;\n",
    "            \n",
    "        else: \n",
    "            return x\n",
    "\n",
    "    "
   ]
  },
  {
   "cell_type": "code",
   "execution_count": 338,
   "id": "465ccf0e-4548-4013-b1b9-b20f7cdf1bde",
   "metadata": {},
   "outputs": [],
   "source": [
    "# or we can do db['driven_kilometers']=db['driven_kilometers'].str.replace('km','')"
   ]
  },
  {
   "cell_type": "code",
   "execution_count": 339,
   "id": "09661f67-9b4a-4469-8aad-ad8103bbf835",
   "metadata": {},
   "outputs": [],
   "source": [
    "db['driven_kilometers']=db['driven_kilometers'].apply(split_distance)"
   ]
  },
  {
   "cell_type": "code",
   "execution_count": 340,
   "id": "9593428e-0ed6-4fcf-87ae-23a7fc303f56",
   "metadata": {},
   "outputs": [],
   "source": [
    "db['driven_kilometers']=db['driven_kilometers'].str.replace(',','')"
   ]
  },
  {
   "cell_type": "code",
   "execution_count": 341,
   "id": "2858a789-bbd4-435a-b3db-3664c59965c3",
   "metadata": {},
   "outputs": [
    {
     "data": {
      "text/html": [
       "<div>\n",
       "<style scoped>\n",
       "    .dataframe tbody tr th:only-of-type {\n",
       "        vertical-align: middle;\n",
       "    }\n",
       "\n",
       "    .dataframe tbody tr th {\n",
       "        vertical-align: top;\n",
       "    }\n",
       "\n",
       "    .dataframe thead th {\n",
       "        text-align: right;\n",
       "    }\n",
       "</style>\n",
       "<table border=\"1\" class=\"dataframe\">\n",
       "  <thead>\n",
       "    <tr style=\"text-align: right;\">\n",
       "      <th></th>\n",
       "      <th>index</th>\n",
       "      <th>brand</th>\n",
       "      <th>model</th>\n",
       "      <th>varient</th>\n",
       "      <th>manufacture_year</th>\n",
       "      <th>driven_kilometers</th>\n",
       "      <th>fuel</th>\n",
       "      <th>number_of_owner</th>\n",
       "      <th>body_type</th>\n",
       "      <th>location</th>\n",
       "      <th>price</th>\n",
       "    </tr>\n",
       "  </thead>\n",
       "  <tbody>\n",
       "    <tr>\n",
       "      <th>0</th>\n",
       "      <td>0</td>\n",
       "      <td>Maruti</td>\n",
       "      <td>Zen</td>\n",
       "      <td>Estilo LXI</td>\n",
       "      <td>2011</td>\n",
       "      <td>24337</td>\n",
       "      <td>Petrol</td>\n",
       "      <td>First Owner</td>\n",
       "      <td>Hatchback</td>\n",
       "      <td>Delhi</td>\n",
       "      <td>210499.0</td>\n",
       "    </tr>\n",
       "    <tr>\n",
       "      <th>1</th>\n",
       "      <td>1</td>\n",
       "      <td>Maruti</td>\n",
       "      <td>Alto</td>\n",
       "      <td>K10 VXI</td>\n",
       "      <td>2018</td>\n",
       "      <td>5198</td>\n",
       "      <td>Petrol</td>\n",
       "      <td>First Owner</td>\n",
       "      <td>Hatchback</td>\n",
       "      <td>Delhi</td>\n",
       "      <td>343799.0</td>\n",
       "    </tr>\n",
       "    <tr>\n",
       "      <th>2</th>\n",
       "      <td>2</td>\n",
       "      <td>Maruti</td>\n",
       "      <td>Celerio</td>\n",
       "      <td>VXI AMT</td>\n",
       "      <td>2015</td>\n",
       "      <td>27739</td>\n",
       "      <td>Petrol</td>\n",
       "      <td>First Owner</td>\n",
       "      <td>Hatchback</td>\n",
       "      <td>Delhi</td>\n",
       "      <td>371199.0</td>\n",
       "    </tr>\n",
       "    <tr>\n",
       "      <th>3</th>\n",
       "      <td>3</td>\n",
       "      <td>Hyundai</td>\n",
       "      <td>i20</td>\n",
       "      <td>SPORTZ 1.2 VTVT</td>\n",
       "      <td>2014</td>\n",
       "      <td>25187</td>\n",
       "      <td>Petrol</td>\n",
       "      <td>First Owner</td>\n",
       "      <td>Hatchback</td>\n",
       "      <td>Delhi</td>\n",
       "      <td>360099.0</td>\n",
       "    </tr>\n",
       "    <tr>\n",
       "      <th>4</th>\n",
       "      <td>4</td>\n",
       "      <td>Maruti</td>\n",
       "      <td>S</td>\n",
       "      <td>PRESSO VXI PLUS</td>\n",
       "      <td>2020</td>\n",
       "      <td>7556</td>\n",
       "      <td>Petrol</td>\n",
       "      <td>First Owner</td>\n",
       "      <td>Hatchback</td>\n",
       "      <td>Delhi</td>\n",
       "      <td>415999.0</td>\n",
       "    </tr>\n",
       "  </tbody>\n",
       "</table>\n",
       "</div>"
      ],
      "text/plain": [
       "   index    brand    model          varient  manufacture_year  \\\n",
       "0      0   Maruti      Zen       Estilo LXI              2011   \n",
       "1      1   Maruti     Alto          K10 VXI              2018   \n",
       "2      2   Maruti  Celerio          VXI AMT              2015   \n",
       "3      3  Hyundai      i20  SPORTZ 1.2 VTVT              2014   \n",
       "4      4   Maruti        S  PRESSO VXI PLUS              2020   \n",
       "\n",
       "  driven_kilometers    fuel number_of_owner  body_type location     price  \n",
       "0             24337  Petrol     First Owner  Hatchback    Delhi  210499.0  \n",
       "1              5198  Petrol     First Owner  Hatchback    Delhi  343799.0  \n",
       "2             27739  Petrol     First Owner  Hatchback    Delhi  371199.0  \n",
       "3             25187  Petrol     First Owner  Hatchback    Delhi  360099.0  \n",
       "4              7556  Petrol     First Owner  Hatchback    Delhi  415999.0  "
      ]
     },
     "execution_count": 341,
     "metadata": {},
     "output_type": "execute_result"
    }
   ],
   "source": [
    "db.head()"
   ]
  },
  {
   "cell_type": "code",
   "execution_count": 342,
   "id": "b2038c7a-84a6-4aa9-9a1e-18cdf6c859cc",
   "metadata": {},
   "outputs": [],
   "source": [
    "db['driven_kilometers']=(db['driven_kilometers']).astype(int)"
   ]
  },
  {
   "cell_type": "code",
   "execution_count": 343,
   "id": "e7c9b9bb-c6e7-484a-838a-fa0c6d85f9ef",
   "metadata": {},
   "outputs": [
    {
     "name": "stdout",
     "output_type": "stream",
     "text": [
      "<class 'pandas.core.frame.DataFrame'>\n",
      "RangeIndex: 10083 entries, 0 to 10082\n",
      "Data columns (total 11 columns):\n",
      " #   Column             Non-Null Count  Dtype  \n",
      "---  ------             --------------  -----  \n",
      " 0   index              10083 non-null  int64  \n",
      " 1   brand              10083 non-null  object \n",
      " 2   model              10083 non-null  object \n",
      " 3   varient            10083 non-null  object \n",
      " 4   manufacture_year   10083 non-null  int64  \n",
      " 5   driven_kilometers  10083 non-null  int64  \n",
      " 6   fuel               10083 non-null  object \n",
      " 7   number_of_owner    10083 non-null  object \n",
      " 8   body_type          10083 non-null  object \n",
      " 9   location           10083 non-null  object \n",
      " 10  price              10083 non-null  float64\n",
      "dtypes: float64(1), int64(3), object(7)\n",
      "memory usage: 866.6+ KB\n"
     ]
    }
   ],
   "source": [
    "db.info()"
   ]
  },
  {
   "cell_type": "code",
   "execution_count": null,
   "id": "c079496c-1dd9-4772-82d2-d3ebc785f3c2",
   "metadata": {},
   "outputs": [],
   "source": [
    "LABELENCODING"
   ]
  },
  {
   "cell_type": "code",
   "execution_count": 344,
   "id": "36c7a4ec-e125-47b2-86b8-6fcd7dc10293",
   "metadata": {},
   "outputs": [],
   "source": [
    "from sklearn.preprocessing import LabelEncoder,StandardScaler"
   ]
  },
  {
   "cell_type": "code",
   "execution_count": 345,
   "id": "8d43c9a6-7fca-42b5-948a-cf07f6bfabef",
   "metadata": {},
   "outputs": [],
   "source": [
    "brand_en = LabelEncoder ()\n",
    "db[ 'brand_number'] = brand_en.fit_transform(db['brand'])"
   ]
  },
  {
   "cell_type": "code",
   "execution_count": null,
   "id": "5afa36ff-8665-4b75-9758-4b4175c8b369",
   "metadata": {},
   "outputs": [],
   "source": []
  },
  {
   "cell_type": "code",
   "execution_count": 346,
   "id": "74152c8c-5b0f-499f-b56b-5698ba78e16a",
   "metadata": {},
   "outputs": [],
   "source": [
    "fuel_en = LabelEncoder ()\n",
    "db[ 'fuel_number'] = fuel_en.fit_transform(db['fuel'])"
   ]
  },
  {
   "cell_type": "code",
   "execution_count": null,
   "id": "138523f4-9bfe-47f2-bb6f-8d1154f91763",
   "metadata": {},
   "outputs": [],
   "source": []
  },
  {
   "cell_type": "code",
   "execution_count": 347,
   "id": "d19664f3-abbc-4dde-90d1-bf64cb2115cd",
   "metadata": {},
   "outputs": [],
   "source": [
    "loaction_en = LabelEncoder ()\n",
    "db[ 'location_number'] = fuel_en.fit_transform(db['location'])"
   ]
  },
  {
   "cell_type": "code",
   "execution_count": null,
   "id": "acc515af-9ded-45b9-b2da-394086026a60",
   "metadata": {},
   "outputs": [],
   "source": []
  },
  {
   "cell_type": "code",
   "execution_count": 348,
   "id": "50465623-37d0-47a8-aaf3-cab8194ca85a",
   "metadata": {},
   "outputs": [],
   "source": [
    "manu_year_en = LabelEncoder ()\n",
    "db[ 'manu_year_number'] = fuel_en.fit_transform(db['manufacture_year'])"
   ]
  },
  {
   "cell_type": "code",
   "execution_count": 349,
   "id": "9bbde44b-11e4-49cb-8199-4b126ca1690d",
   "metadata": {},
   "outputs": [
    {
     "data": {
      "text/html": [
       "<div>\n",
       "<style scoped>\n",
       "    .dataframe tbody tr th:only-of-type {\n",
       "        vertical-align: middle;\n",
       "    }\n",
       "\n",
       "    .dataframe tbody tr th {\n",
       "        vertical-align: top;\n",
       "    }\n",
       "\n",
       "    .dataframe thead th {\n",
       "        text-align: right;\n",
       "    }\n",
       "</style>\n",
       "<table border=\"1\" class=\"dataframe\">\n",
       "  <thead>\n",
       "    <tr style=\"text-align: right;\">\n",
       "      <th></th>\n",
       "      <th>index</th>\n",
       "      <th>brand</th>\n",
       "      <th>model</th>\n",
       "      <th>varient</th>\n",
       "      <th>manufacture_year</th>\n",
       "      <th>driven_kilometers</th>\n",
       "      <th>fuel</th>\n",
       "      <th>number_of_owner</th>\n",
       "      <th>body_type</th>\n",
       "      <th>location</th>\n",
       "      <th>price</th>\n",
       "      <th>brand_number</th>\n",
       "      <th>fuel_number</th>\n",
       "      <th>location_number</th>\n",
       "      <th>manu_year_number</th>\n",
       "    </tr>\n",
       "  </thead>\n",
       "  <tbody>\n",
       "    <tr>\n",
       "      <th>0</th>\n",
       "      <td>0</td>\n",
       "      <td>Maruti</td>\n",
       "      <td>Zen</td>\n",
       "      <td>Estilo LXI</td>\n",
       "      <td>2011</td>\n",
       "      <td>24337</td>\n",
       "      <td>Petrol</td>\n",
       "      <td>First Owner</td>\n",
       "      <td>Hatchback</td>\n",
       "      <td>Delhi</td>\n",
       "      <td>210499.0</td>\n",
       "      <td>19</td>\n",
       "      <td>3</td>\n",
       "      <td>3</td>\n",
       "      <td>12</td>\n",
       "    </tr>\n",
       "    <tr>\n",
       "      <th>1</th>\n",
       "      <td>1</td>\n",
       "      <td>Maruti</td>\n",
       "      <td>Alto</td>\n",
       "      <td>K10 VXI</td>\n",
       "      <td>2018</td>\n",
       "      <td>5198</td>\n",
       "      <td>Petrol</td>\n",
       "      <td>First Owner</td>\n",
       "      <td>Hatchback</td>\n",
       "      <td>Delhi</td>\n",
       "      <td>343799.0</td>\n",
       "      <td>19</td>\n",
       "      <td>3</td>\n",
       "      <td>3</td>\n",
       "      <td>19</td>\n",
       "    </tr>\n",
       "    <tr>\n",
       "      <th>2</th>\n",
       "      <td>2</td>\n",
       "      <td>Maruti</td>\n",
       "      <td>Celerio</td>\n",
       "      <td>VXI AMT</td>\n",
       "      <td>2015</td>\n",
       "      <td>27739</td>\n",
       "      <td>Petrol</td>\n",
       "      <td>First Owner</td>\n",
       "      <td>Hatchback</td>\n",
       "      <td>Delhi</td>\n",
       "      <td>371199.0</td>\n",
       "      <td>19</td>\n",
       "      <td>3</td>\n",
       "      <td>3</td>\n",
       "      <td>16</td>\n",
       "    </tr>\n",
       "    <tr>\n",
       "      <th>3</th>\n",
       "      <td>3</td>\n",
       "      <td>Hyundai</td>\n",
       "      <td>i20</td>\n",
       "      <td>SPORTZ 1.2 VTVT</td>\n",
       "      <td>2014</td>\n",
       "      <td>25187</td>\n",
       "      <td>Petrol</td>\n",
       "      <td>First Owner</td>\n",
       "      <td>Hatchback</td>\n",
       "      <td>Delhi</td>\n",
       "      <td>360099.0</td>\n",
       "      <td>10</td>\n",
       "      <td>3</td>\n",
       "      <td>3</td>\n",
       "      <td>15</td>\n",
       "    </tr>\n",
       "    <tr>\n",
       "      <th>4</th>\n",
       "      <td>4</td>\n",
       "      <td>Maruti</td>\n",
       "      <td>S</td>\n",
       "      <td>PRESSO VXI PLUS</td>\n",
       "      <td>2020</td>\n",
       "      <td>7556</td>\n",
       "      <td>Petrol</td>\n",
       "      <td>First Owner</td>\n",
       "      <td>Hatchback</td>\n",
       "      <td>Delhi</td>\n",
       "      <td>415999.0</td>\n",
       "      <td>19</td>\n",
       "      <td>3</td>\n",
       "      <td>3</td>\n",
       "      <td>21</td>\n",
       "    </tr>\n",
       "  </tbody>\n",
       "</table>\n",
       "</div>"
      ],
      "text/plain": [
       "   index    brand    model          varient  manufacture_year  \\\n",
       "0      0   Maruti      Zen       Estilo LXI              2011   \n",
       "1      1   Maruti     Alto          K10 VXI              2018   \n",
       "2      2   Maruti  Celerio          VXI AMT              2015   \n",
       "3      3  Hyundai      i20  SPORTZ 1.2 VTVT              2014   \n",
       "4      4   Maruti        S  PRESSO VXI PLUS              2020   \n",
       "\n",
       "   driven_kilometers    fuel number_of_owner  body_type location     price  \\\n",
       "0              24337  Petrol     First Owner  Hatchback    Delhi  210499.0   \n",
       "1               5198  Petrol     First Owner  Hatchback    Delhi  343799.0   \n",
       "2              27739  Petrol     First Owner  Hatchback    Delhi  371199.0   \n",
       "3              25187  Petrol     First Owner  Hatchback    Delhi  360099.0   \n",
       "4               7556  Petrol     First Owner  Hatchback    Delhi  415999.0   \n",
       "\n",
       "   brand_number  fuel_number  location_number  manu_year_number  \n",
       "0            19            3                3                12  \n",
       "1            19            3                3                19  \n",
       "2            19            3                3                16  \n",
       "3            10            3                3                15  \n",
       "4            19            3                3                21  "
      ]
     },
     "execution_count": 349,
     "metadata": {},
     "output_type": "execute_result"
    }
   ],
   "source": [
    "db.head()"
   ]
  },
  {
   "cell_type": "markdown",
   "id": "0851f4e6-ec09-452b-aa4b-90b121808d95",
   "metadata": {},
   "source": [
    "FILTER OUTLINEAR"
   ]
  },
  {
   "cell_type": "code",
   "execution_count": 350,
   "id": "02bc57e5-e22e-4f83-a6a9-15d16b882fa7",
   "metadata": {},
   "outputs": [
    {
     "data": {
      "image/png": "[encoded data removed]",
      "text/plain": [
       "<Figure size 400x300 with 1 Axes>"
      ]
     },
     "metadata": {},
     "output_type": "display_data"
    }
   ],
   "source": [
    " plt.figure(figsize=(4,3))\n",
    "sns.boxplot(x=\"driven_kilometers\" ,data=db)\n",
    "plt.show()"
   ]
  },
  {
   "cell_type": "code",
   "execution_count": 351,
   "id": "b0e7899b-a9ff-4d0e-a23e-d673ca2d6200",
   "metadata": {},
   "outputs": [],
   "source": [
    "q1=db['driven_kilometers'].quantile(0.25)\n",
    "q3=db['driven_kilometers'].quantile(0.75)\n",
    "iqr=q3-q1\n",
    "lower_bound=q1-(1.5*iqr)\n",
    "upper_bound=q3+(1.5*iqr)\n",
    "db=db[db['driven_kilometers'] <= upper_bound]"
   ]
  },
  {
   "cell_type": "code",
   "execution_count": 352,
   "id": "fa0b7f12-23f9-4df3-8351-777276a4cfa5",
   "metadata": {},
   "outputs": [
    {
     "data": {
      "image/png": "[encoded data removed]",
      "text/plain": [
       "<Figure size 400x300 with 1 Axes>"
      ]
     },
     "metadata": {},
     "output_type": "display_data"
    }
   ],
   "source": [
    "plt.figure(figsize=(4,3))\n",
    "sns.boxplot(x=\"driven_kilometers\" ,data=db)\n",
    "plt.show()"
   ]
  },
  {
   "cell_type": "code",
   "execution_count": null,
   "id": "152114e3-29dc-4a0f-8d2b-ebddd5b0cd0f",
   "metadata": {},
   "outputs": [],
   "source": []
  },
  {
   "cell_type": "code",
   "execution_count": null,
   "id": "56598f3d-3e06-4d82-87da-1a53ede92510",
   "metadata": {},
   "outputs": [],
   "source": []
  },
  {
   "cell_type": "code",
   "execution_count": 353,
   "id": "c0374c92-cbe8-48e0-9829-2fd4e0599068",
   "metadata": {},
   "outputs": [],
   "source": [
    "body_type_en = LabelEncoder ()\n",
    "db[ 'body_type_number'] = body_type_en.fit_transform(db['body_type'])"
   ]
  },
  {
   "cell_type": "code",
   "execution_count": 354,
   "id": "152d9a69-5906-46e2-a402-9177456ab568",
   "metadata": {},
   "outputs": [],
   "source": [
    "ownership_en = LabelEncoder ()\n",
    "db[ 'ownership_number'] = ownership_en.fit_transform(db['number_of_owner'])"
   ]
  },
  {
   "cell_type": "code",
   "execution_count": 355,
   "id": "6ce58680-dfac-4e80-a6ab-730a4f5e4433",
   "metadata": {},
   "outputs": [],
   "source": [
    "db2=db\n",
    "db3=db"
   ]
  },
  {
   "cell_type": "code",
   "execution_count": 356,
   "id": "25abeeb6-a8e6-47c9-9ca3-10edb6f58ae3",
   "metadata": {},
   "outputs": [
    {
     "data": {
      "text/html": [
       "<div>\n",
       "<style scoped>\n",
       "    .dataframe tbody tr th:only-of-type {\n",
       "        vertical-align: middle;\n",
       "    }\n",
       "\n",
       "    .dataframe tbody tr th {\n",
       "        vertical-align: top;\n",
       "    }\n",
       "\n",
       "    .dataframe thead th {\n",
       "        text-align: right;\n",
       "    }\n",
       "</style>\n",
       "<table border=\"1\" class=\"dataframe\">\n",
       "  <thead>\n",
       "    <tr style=\"text-align: right;\">\n",
       "      <th></th>\n",
       "      <th>index</th>\n",
       "      <th>brand</th>\n",
       "      <th>model</th>\n",
       "      <th>varient</th>\n",
       "      <th>manufacture_year</th>\n",
       "      <th>driven_kilometers</th>\n",
       "      <th>fuel</th>\n",
       "      <th>number_of_owner</th>\n",
       "      <th>body_type</th>\n",
       "      <th>location</th>\n",
       "      <th>price</th>\n",
       "      <th>brand_number</th>\n",
       "      <th>fuel_number</th>\n",
       "      <th>location_number</th>\n",
       "      <th>manu_year_number</th>\n",
       "      <th>body_type_number</th>\n",
       "      <th>ownership_number</th>\n",
       "    </tr>\n",
       "  </thead>\n",
       "  <tbody>\n",
       "    <tr>\n",
       "      <th>0</th>\n",
       "      <td>0</td>\n",
       "      <td>Maruti</td>\n",
       "      <td>Zen</td>\n",
       "      <td>Estilo LXI</td>\n",
       "      <td>2011</td>\n",
       "      <td>24337</td>\n",
       "      <td>Petrol</td>\n",
       "      <td>First Owner</td>\n",
       "      <td>Hatchback</td>\n",
       "      <td>Delhi</td>\n",
       "      <td>210499.0</td>\n",
       "      <td>19</td>\n",
       "      <td>3</td>\n",
       "      <td>3</td>\n",
       "      <td>12</td>\n",
       "      <td>1</td>\n",
       "      <td>0</td>\n",
       "    </tr>\n",
       "    <tr>\n",
       "      <th>1</th>\n",
       "      <td>1</td>\n",
       "      <td>Maruti</td>\n",
       "      <td>Alto</td>\n",
       "      <td>K10 VXI</td>\n",
       "      <td>2018</td>\n",
       "      <td>5198</td>\n",
       "      <td>Petrol</td>\n",
       "      <td>First Owner</td>\n",
       "      <td>Hatchback</td>\n",
       "      <td>Delhi</td>\n",
       "      <td>343799.0</td>\n",
       "      <td>19</td>\n",
       "      <td>3</td>\n",
       "      <td>3</td>\n",
       "      <td>19</td>\n",
       "      <td>1</td>\n",
       "      <td>0</td>\n",
       "    </tr>\n",
       "    <tr>\n",
       "      <th>2</th>\n",
       "      <td>2</td>\n",
       "      <td>Maruti</td>\n",
       "      <td>Celerio</td>\n",
       "      <td>VXI AMT</td>\n",
       "      <td>2015</td>\n",
       "      <td>27739</td>\n",
       "      <td>Petrol</td>\n",
       "      <td>First Owner</td>\n",
       "      <td>Hatchback</td>\n",
       "      <td>Delhi</td>\n",
       "      <td>371199.0</td>\n",
       "      <td>19</td>\n",
       "      <td>3</td>\n",
       "      <td>3</td>\n",
       "      <td>16</td>\n",
       "      <td>1</td>\n",
       "      <td>0</td>\n",
       "    </tr>\n",
       "    <tr>\n",
       "      <th>3</th>\n",
       "      <td>3</td>\n",
       "      <td>Hyundai</td>\n",
       "      <td>i20</td>\n",
       "      <td>SPORTZ 1.2 VTVT</td>\n",
       "      <td>2014</td>\n",
       "      <td>25187</td>\n",
       "      <td>Petrol</td>\n",
       "      <td>First Owner</td>\n",
       "      <td>Hatchback</td>\n",
       "      <td>Delhi</td>\n",
       "      <td>360099.0</td>\n",
       "      <td>10</td>\n",
       "      <td>3</td>\n",
       "      <td>3</td>\n",
       "      <td>15</td>\n",
       "      <td>1</td>\n",
       "      <td>0</td>\n",
       "    </tr>\n",
       "    <tr>\n",
       "      <th>4</th>\n",
       "      <td>4</td>\n",
       "      <td>Maruti</td>\n",
       "      <td>S</td>\n",
       "      <td>PRESSO VXI PLUS</td>\n",
       "      <td>2020</td>\n",
       "      <td>7556</td>\n",
       "      <td>Petrol</td>\n",
       "      <td>First Owner</td>\n",
       "      <td>Hatchback</td>\n",
       "      <td>Delhi</td>\n",
       "      <td>415999.0</td>\n",
       "      <td>19</td>\n",
       "      <td>3</td>\n",
       "      <td>3</td>\n",
       "      <td>21</td>\n",
       "      <td>1</td>\n",
       "      <td>0</td>\n",
       "    </tr>\n",
       "  </tbody>\n",
       "</table>\n",
       "</div>"
      ],
      "text/plain": [
       "   index    brand    model          varient  manufacture_year  \\\n",
       "0      0   Maruti      Zen       Estilo LXI              2011   \n",
       "1      1   Maruti     Alto          K10 VXI              2018   \n",
       "2      2   Maruti  Celerio          VXI AMT              2015   \n",
       "3      3  Hyundai      i20  SPORTZ 1.2 VTVT              2014   \n",
       "4      4   Maruti        S  PRESSO VXI PLUS              2020   \n",
       "\n",
       "   driven_kilometers    fuel number_of_owner  body_type location     price  \\\n",
       "0              24337  Petrol     First Owner  Hatchback    Delhi  210499.0   \n",
       "1               5198  Petrol     First Owner  Hatchback    Delhi  343799.0   \n",
       "2              27739  Petrol     First Owner  Hatchback    Delhi  371199.0   \n",
       "3              25187  Petrol     First Owner  Hatchback    Delhi  360099.0   \n",
       "4               7556  Petrol     First Owner  Hatchback    Delhi  415999.0   \n",
       "\n",
       "   brand_number  fuel_number  location_number  manu_year_number  \\\n",
       "0            19            3                3                12   \n",
       "1            19            3                3                19   \n",
       "2            19            3                3                16   \n",
       "3            10            3                3                15   \n",
       "4            19            3                3                21   \n",
       "\n",
       "   body_type_number  ownership_number  \n",
       "0                 1                 0  \n",
       "1                 1                 0  \n",
       "2                 1                 0  \n",
       "3                 1                 0  \n",
       "4                 1                 0  "
      ]
     },
     "execution_count": 356,
     "metadata": {},
     "output_type": "execute_result"
    }
   ],
   "source": [
    "db2.head()"
   ]
  },
  {
   "cell_type": "code",
   "execution_count": 357,
   "id": "dd6c65a7-9ff2-4f9d-aceb-af4ef9987099",
   "metadata": {},
   "outputs": [],
   "source": [
    "db2.drop(columns=['brand','model','varient','location','fuel','number_of_owner','body_type','body_type','manu_year_number','index'],inplace=True)"
   ]
  },
  {
   "cell_type": "code",
   "execution_count": 358,
   "id": "c9ffa50b-cae0-4424-a080-7d86b0028208",
   "metadata": {},
   "outputs": [],
   "source": [
    "x=db2.drop(columns=['price'],axis=1)\n",
    "y=db2['price']"
   ]
  },
  {
   "cell_type": "code",
   "execution_count": 359,
   "id": "ec0f50b7-412c-4f41-bf75-8a2b6252cb24",
   "metadata": {},
   "outputs": [
    {
     "data": {
      "text/html": [
       "<div>\n",
       "<style scoped>\n",
       "    .dataframe tbody tr th:only-of-type {\n",
       "        vertical-align: middle;\n",
       "    }\n",
       "\n",
       "    .dataframe tbody tr th {\n",
       "        vertical-align: top;\n",
       "    }\n",
       "\n",
       "    .dataframe thead th {\n",
       "        text-align: right;\n",
       "    }\n",
       "</style>\n",
       "<table border=\"1\" class=\"dataframe\">\n",
       "  <thead>\n",
       "    <tr style=\"text-align: right;\">\n",
       "      <th></th>\n",
       "      <th>manufacture_year</th>\n",
       "      <th>driven_kilometers</th>\n",
       "      <th>brand_number</th>\n",
       "      <th>fuel_number</th>\n",
       "      <th>location_number</th>\n",
       "      <th>body_type_number</th>\n",
       "      <th>ownership_number</th>\n",
       "    </tr>\n",
       "  </thead>\n",
       "  <tbody>\n",
       "    <tr>\n",
       "      <th>0</th>\n",
       "      <td>2011</td>\n",
       "      <td>24337</td>\n",
       "      <td>19</td>\n",
       "      <td>3</td>\n",
       "      <td>3</td>\n",
       "      <td>1</td>\n",
       "      <td>0</td>\n",
       "    </tr>\n",
       "    <tr>\n",
       "      <th>1</th>\n",
       "      <td>2018</td>\n",
       "      <td>5198</td>\n",
       "      <td>19</td>\n",
       "      <td>3</td>\n",
       "      <td>3</td>\n",
       "      <td>1</td>\n",
       "      <td>0</td>\n",
       "    </tr>\n",
       "    <tr>\n",
       "      <th>2</th>\n",
       "      <td>2015</td>\n",
       "      <td>27739</td>\n",
       "      <td>19</td>\n",
       "      <td>3</td>\n",
       "      <td>3</td>\n",
       "      <td>1</td>\n",
       "      <td>0</td>\n",
       "    </tr>\n",
       "    <tr>\n",
       "      <th>3</th>\n",
       "      <td>2014</td>\n",
       "      <td>25187</td>\n",
       "      <td>10</td>\n",
       "      <td>3</td>\n",
       "      <td>3</td>\n",
       "      <td>1</td>\n",
       "      <td>0</td>\n",
       "    </tr>\n",
       "    <tr>\n",
       "      <th>4</th>\n",
       "      <td>2020</td>\n",
       "      <td>7556</td>\n",
       "      <td>19</td>\n",
       "      <td>3</td>\n",
       "      <td>3</td>\n",
       "      <td>1</td>\n",
       "      <td>0</td>\n",
       "    </tr>\n",
       "  </tbody>\n",
       "</table>\n",
       "</div>"
      ],
      "text/plain": [
       "   manufacture_year  driven_kilometers  brand_number  fuel_number  \\\n",
       "0              2011              24337            19            3   \n",
       "1              2018               5198            19            3   \n",
       "2              2015              27739            19            3   \n",
       "3              2014              25187            10            3   \n",
       "4              2020               7556            19            3   \n",
       "\n",
       "   location_number  body_type_number  ownership_number  \n",
       "0                3                 1                 0  \n",
       "1                3                 1                 0  \n",
       "2                3                 1                 0  \n",
       "3                3                 1                 0  \n",
       "4                3                 1                 0  "
      ]
     },
     "execution_count": 359,
     "metadata": {},
     "output_type": "execute_result"
    }
   ],
   "source": [
    "x.head()"
   ]
  },
  {
   "cell_type": "code",
   "execution_count": 360,
   "id": "762133f0-edb9-4464-9d5f-feab2264debf",
   "metadata": {},
   "outputs": [
    {
     "data": {
      "text/plain": [
       "0    210499.0\n",
       "1    343799.0\n",
       "2    371199.0\n",
       "3    360099.0\n",
       "4    415999.0\n",
       "Name: price, dtype: float64"
      ]
     },
     "execution_count": 360,
     "metadata": {},
     "output_type": "execute_result"
    }
   ],
   "source": [
    "y.head()"
   ]
  },
  {
   "cell_type": "markdown",
   "id": "af7c055d-2810-4839-85ae-2e38de233fc7",
   "metadata": {},
   "source": [
    "SCALING"
   ]
  },
  {
   "cell_type": "code",
   "execution_count": null,
   "id": "14f764d5-35f4-45db-8d22-4c8b78c4941e",
   "metadata": {},
   "outputs": [],
   "source": []
  },
  {
   "cell_type": "code",
   "execution_count": 361,
   "id": "f0010de2-1149-4856-8eba-4f70e54dfb3c",
   "metadata": {},
   "outputs": [],
   "source": [
    "from sklearn.preprocessing import StandardScaler \n",
    "std_scale = StandardScaler()"
   ]
  },
  {
   "cell_type": "code",
   "execution_count": null,
   "id": "86a06c28-c374-4b67-a111-61310967617b",
   "metadata": {},
   "outputs": [],
   "source": []
  },
  {
   "cell_type": "code",
   "execution_count": 362,
   "id": "8d5c13a0-9e9f-4cc3-9c32-e0867e8e6485",
   "metadata": {},
   "outputs": [],
   "source": [
    "x[' driven_kilometers'] = std_scale. fit_transform(x[[ 'driven_kilometers' ]])\n",
    "x[ 'manufacture_year'] = std_scale.fit_transform(x[['manufacture_year']])\n",
    "x[ 'brand_number'] = std_scale.fit_transform(x[['brand_number']])\n",
    "x['fuel_number'] = std_scale. fit_transform(x[['fuel_number']])\n",
    "x['body_type_number'] = std_scale. fit_transform(x[['body_type_number']])\n",
    "x['ownership_number'] = std_scale. fit_transform(x[['ownership_number']])\n",
    "x['location_number'] = std_scale. fit_transform(x[['location_number']])\n"
   ]
  },
  {
   "cell_type": "code",
   "execution_count": 363,
   "id": "dabbcb10-0ff1-4c3a-9eac-871fd3f6cd28",
   "metadata": {},
   "outputs": [
    {
     "data": {
      "text/html": [
       "<div>\n",
       "<style scoped>\n",
       "    .dataframe tbody tr th:only-of-type {\n",
       "        vertical-align: middle;\n",
       "    }\n",
       "\n",
       "    .dataframe tbody tr th {\n",
       "        vertical-align: top;\n",
       "    }\n",
       "\n",
       "    .dataframe thead th {\n",
       "        text-align: right;\n",
       "    }\n",
       "</style>\n",
       "<table border=\"1\" class=\"dataframe\">\n",
       "  <thead>\n",
       "    <tr style=\"text-align: right;\">\n",
       "      <th></th>\n",
       "      <th>manufacture_year</th>\n",
       "      <th>driven_kilometers</th>\n",
       "      <th>brand_number</th>\n",
       "      <th>fuel_number</th>\n",
       "      <th>location_number</th>\n",
       "      <th>body_type_number</th>\n",
       "      <th>ownership_number</th>\n",
       "      <th>driven_kilometers</th>\n",
       "    </tr>\n",
       "  </thead>\n",
       "  <tbody>\n",
       "    <tr>\n",
       "      <th>0</th>\n",
       "      <td>-1.226551</td>\n",
       "      <td>24337</td>\n",
       "      <td>0.282719</td>\n",
       "      <td>0.890088</td>\n",
       "      <td>-0.61422</td>\n",
       "      <td>-0.910825</td>\n",
       "      <td>-0.523419</td>\n",
       "      <td>-1.019744</td>\n",
       "    </tr>\n",
       "    <tr>\n",
       "      <th>1</th>\n",
       "      <td>1.124975</td>\n",
       "      <td>5198</td>\n",
       "      <td>0.282719</td>\n",
       "      <td>0.890088</td>\n",
       "      <td>-0.61422</td>\n",
       "      <td>-0.910825</td>\n",
       "      <td>-0.523419</td>\n",
       "      <td>-1.604642</td>\n",
       "    </tr>\n",
       "    <tr>\n",
       "      <th>2</th>\n",
       "      <td>0.117179</td>\n",
       "      <td>27739</td>\n",
       "      <td>0.282719</td>\n",
       "      <td>0.890088</td>\n",
       "      <td>-0.61422</td>\n",
       "      <td>-0.910825</td>\n",
       "      <td>-0.523419</td>\n",
       "      <td>-0.915777</td>\n",
       "    </tr>\n",
       "    <tr>\n",
       "      <th>3</th>\n",
       "      <td>-0.218754</td>\n",
       "      <td>25187</td>\n",
       "      <td>-0.839855</td>\n",
       "      <td>0.890088</td>\n",
       "      <td>-0.61422</td>\n",
       "      <td>-0.910825</td>\n",
       "      <td>-0.523419</td>\n",
       "      <td>-0.993768</td>\n",
       "    </tr>\n",
       "    <tr>\n",
       "      <th>4</th>\n",
       "      <td>1.796840</td>\n",
       "      <td>7556</td>\n",
       "      <td>0.282719</td>\n",
       "      <td>0.890088</td>\n",
       "      <td>-0.61422</td>\n",
       "      <td>-0.910825</td>\n",
       "      <td>-0.523419</td>\n",
       "      <td>-1.532580</td>\n",
       "    </tr>\n",
       "  </tbody>\n",
       "</table>\n",
       "</div>"
      ],
      "text/plain": [
       "   manufacture_year  driven_kilometers  brand_number  fuel_number  \\\n",
       "0         -1.226551              24337      0.282719     0.890088   \n",
       "1          1.124975               5198      0.282719     0.890088   \n",
       "2          0.117179              27739      0.282719     0.890088   \n",
       "3         -0.218754              25187     -0.839855     0.890088   \n",
       "4          1.796840               7556      0.282719     0.890088   \n",
       "\n",
       "   location_number  body_type_number  ownership_number   driven_kilometers  \n",
       "0         -0.61422         -0.910825         -0.523419           -1.019744  \n",
       "1         -0.61422         -0.910825         -0.523419           -1.604642  \n",
       "2         -0.61422         -0.910825         -0.523419           -0.915777  \n",
       "3         -0.61422         -0.910825         -0.523419           -0.993768  \n",
       "4         -0.61422         -0.910825         -0.523419           -1.532580  "
      ]
     },
     "execution_count": 363,
     "metadata": {},
     "output_type": "execute_result"
    }
   ],
   "source": [
    "x.head()"
   ]
  },
  {
   "cell_type": "code",
   "execution_count": null,
   "id": "7e8f5ef4-5a8f-42bb-a265-873fb3e321e9",
   "metadata": {},
   "outputs": [],
   "source": []
  },
  {
   "cell_type": "code",
   "execution_count": 364,
   "id": "b1a00e0b-5a0e-41d4-875a-fe9768d8af3c",
   "metadata": {},
   "outputs": [],
   "source": [
    "from sklearn.model_selection import train_test_split"
   ]
  },
  {
   "cell_type": "code",
   "execution_count": 365,
   "id": "a8b6d07d-69fa-4926-aedc-ef11da34873b",
   "metadata": {},
   "outputs": [],
   "source": [
    "x_train, x_test, y_train, y_test = train_test_split(x,y,test_size=0.2,random_state=42)"
   ]
  },
  {
   "cell_type": "code",
   "execution_count": null,
   "id": "720c3802-7ebe-4c40-8549-037534a05b76",
   "metadata": {},
   "outputs": [],
   "source": []
  },
  {
   "cell_type": "code",
   "execution_count": 366,
   "id": "6c524152-8269-4f75-a315-c6baa731325a",
   "metadata": {},
   "outputs": [],
   "source": [
    "from sklearn.linear_model import LinearRegression\n",
    "LinearReg = LinearRegression()"
   ]
  },
  {
   "cell_type": "markdown",
   "id": "5f32e8bb-f0c4-44c7-979e-890f85e7a051",
   "metadata": {},
   "source": [
    "model training"
   ]
  },
  {
   "cell_type": "code",
   "execution_count": 367,
   "id": "9f321cb3-eeac-4b53-aa7c-d00b8734d455",
   "metadata": {},
   "outputs": [
    {
     "data": {
      "text/html": [
       "<style>#sk-container-id-3 {color: black;background-color: white;}#sk-container-id-3 pre{padding: 0;}#sk-container-id-3 div.sk-toggleable {background-color: white;}#sk-container-id-3 label.sk-toggleable__label {cursor: pointer;display: block;width: 100%;margin-bottom: 0;padding: 0.3em;box-sizing: border-box;text-align: center;}#sk-container-id-3 label.sk-toggleable__label-arrow:before {content: \"▸\";float: left;margin-right: 0.25em;color: #696969;}#sk-container-id-3 label.sk-toggleable__label-arrow:hover:before {color: black;}#sk-container-id-3 div.sk-estimator:hover label.sk-toggleable__label-arrow:before {color: black;}#sk-container-id-3 div.sk-toggleable__content {max-height: 0;max-width: 0;overflow: hidden;text-align: left;background-color: #f0f8ff;}#sk-container-id-3 div.sk-toggleable__content pre {margin: 0.2em;color: black;border-radius: 0.25em;background-color: #f0f8ff;}#sk-container-id-3 input.sk-toggleable__control:checked~div.sk-toggleable__content {max-height: 200px;max-width: 100%;overflow: auto;}#sk-container-id-3 input.sk-toggleable__control:checked~label.sk-toggleable__label-arrow:before {content: \"▾\";}#sk-container-id-3 div.sk-estimator input.sk-toggleable__control:checked~label.sk-toggleable__label {background-color: #d4ebff;}#sk-container-id-3 div.sk-label input.sk-toggleable__control:checked~label.sk-toggleable__label {background-color: #d4ebff;}#sk-container-id-3 input.sk-hidden--visually {border: 0;clip: rect(1px 1px 1px 1px);clip: rect(1px, 1px, 1px, 1px);height: 1px;margin: -1px;overflow: hidden;padding: 0;position: absolute;width: 1px;}#sk-container-id-3 div.sk-estimator {font-family: monospace;background-color: #f0f8ff;border: 1px dotted black;border-radius: 0.25em;box-sizing: border-box;margin-bottom: 0.5em;}#sk-container-id-3 div.sk-estimator:hover {background-color: #d4ebff;}#sk-container-id-3 div.sk-parallel-item::after {content: \"\";width: 100%;border-bottom: 1px solid gray;flex-grow: 1;}#sk-container-id-3 div.sk-label:hover label.sk-toggleable__label {background-color: #d4ebff;}#sk-container-id-3 div.sk-serial::before {content: \"\";position: absolute;border-left: 1px solid gray;box-sizing: border-box;top: 0;bottom: 0;left: 50%;z-index: 0;}#sk-container-id-3 div.sk-serial {display: flex;flex-direction: column;align-items: center;background-color: white;padding-right: 0.2em;padding-left: 0.2em;position: relative;}#sk-container-id-3 div.sk-item {position: relative;z-index: 1;}#sk-container-id-3 div.sk-parallel {display: flex;align-items: stretch;justify-content: center;background-color: white;position: relative;}#sk-container-id-3 div.sk-item::before, #sk-container-id-3 div.sk-parallel-item::before {content: \"\";position: absolute;border-left: 1px solid gray;box-sizing: border-box;top: 0;bottom: 0;left: 50%;z-index: -1;}#sk-container-id-3 div.sk-parallel-item {display: flex;flex-direction: column;z-index: 1;position: relative;background-color: white;}#sk-container-id-3 div.sk-parallel-item:first-child::after {align-self: flex-end;width: 50%;}#sk-container-id-3 div.sk-parallel-item:last-child::after {align-self: flex-start;width: 50%;}#sk-container-id-3 div.sk-parallel-item:only-child::after {width: 0;}#sk-container-id-3 div.sk-dashed-wrapped {border: 1px dashed gray;margin: 0 0.4em 0.5em 0.4em;box-sizing: border-box;padding-bottom: 0.4em;background-color: white;}#sk-container-id-3 div.sk-label label {font-family: monospace;font-weight: bold;display: inline-block;line-height: 1.2em;}#sk-container-id-3 div.sk-label-container {text-align: center;}#sk-container-id-3 div.sk-container {/* jupyter's `normalize.less` sets `[hidden] { display: none; }` but bootstrap.min.css set `[hidden] { display: none !important; }` so we also need the `!important` here to be able to override the default hidden behavior on the sphinx rendered scikit-learn.org. See: https://github.com/scikit-learn/scikit-learn/issues/21755 */display: inline-block !important;position: relative;}#sk-container-id-3 div.sk-text-repr-fallback {display: none;}</style><div id=\"sk-container-id-3\" class=\"sk-top-container\"><div class=\"sk-text-repr-fallback\"><pre>LinearRegression()</pre><b>In a Jupyter environment, please rerun this cell to show the HTML representation or trust the notebook. <br />On GitHub, the HTML representation is unable to render, please try loading this page with nbviewer.org.</b></div><div class=\"sk-container\" hidden><div class=\"sk-item\"><div class=\"sk-estimator sk-toggleable\"><input class=\"sk-toggleable__control sk-hidden--visually\" id=\"sk-estimator-id-3\" type=\"checkbox\" checked><label for=\"sk-estimator-id-3\" class=\"sk-toggleable__label sk-toggleable__label-arrow\">LinearRegression</label><div class=\"sk-toggleable__content\"><pre>LinearRegression()</pre></div></div></div></div></div>"
      ],
      "text/plain": [
       "LinearRegression()"
      ]
     },
     "execution_count": 367,
     "metadata": {},
     "output_type": "execute_result"
    }
   ],
   "source": [
    "LinearReg.fit(x_train, y_train)"
   ]
  },
  {
   "cell_type": "code",
   "execution_count": null,
   "id": "a0f16d1b-2867-40a9-aa87-6dd4598d644b",
   "metadata": {},
   "outputs": [],
   "source": []
  },
  {
   "cell_type": "code",
   "execution_count": 368,
   "id": "13c356b8-c0a3-46c9-b3ee-61af3bffe936",
   "metadata": {},
   "outputs": [
    {
     "data": {
      "text/plain": [
       "array([ 985247.32617411, 1045662.17860261, 1647239.09968045, ...,\n",
       "       1621902.3520694 ,  439026.14265113,  155954.91865447])"
      ]
     },
     "execution_count": 368,
     "metadata": {},
     "output_type": "execute_result"
    }
   ],
   "source": [
    "y_pred = LinearReg.predict(x_test)\n",
    "y_pred"
   ]
  },
  {
   "cell_type": "code",
   "execution_count": 369,
   "id": "c3d7c605-6a60-413b-9376-88b858066466",
   "metadata": {},
   "outputs": [],
   "source": [
    "from sklearn.metrics import r2_score, mean_squared_error"
   ]
  },
  {
   "cell_type": "code",
   "execution_count": 370,
   "id": "c37a5ece-9888-49b8-8101-f6cc2ee6e77d",
   "metadata": {},
   "outputs": [
    {
     "data": {
      "text/plain": [
       "0.21099367454799545"
      ]
     },
     "execution_count": 370,
     "metadata": {},
     "output_type": "execute_result"
    }
   ],
   "source": [
    "r2_score(y_test, y_pred)"
   ]
  },
  {
   "cell_type": "code",
   "execution_count": 371,
   "id": "c6de0297-79db-4af7-9931-3079a2edeb2c",
   "metadata": {},
   "outputs": [
    {
     "data": {
      "text/plain": [
       "1017212784735.7981"
      ]
     },
     "execution_count": 371,
     "metadata": {},
     "output_type": "execute_result"
    }
   ],
   "source": [
    "mse = mean_squared_error (y_test, y_pred)\n",
    "mse"
   ]
  },
  {
   "cell_type": "code",
   "execution_count": 372,
   "id": "b8ad05ae-d38b-4b05-9cec-78d52621877b",
   "metadata": {},
   "outputs": [
    {
     "data": {
      "text/plain": [
       "1008569.6727226127"
      ]
     },
     "execution_count": 372,
     "metadata": {},
     "output_type": "execute_result"
    }
   ],
   "source": [
    "RMSE=(mse)**0.5\n",
    "RMSE"
   ]
  },
  {
   "cell_type": "markdown",
   "id": "116f9623-cfbc-4e0b-9ddd-09c7ec7414f9",
   "metadata": {},
   "source": [
    "LINEAR REGRESSION COEFFICIENT"
   ]
  },
  {
   "cell_type": "code",
   "execution_count": 373,
   "id": "3ec05ef1-8f49-45d2-b473-3f87266148c6",
   "metadata": {},
   "outputs": [
    {
     "data": {
      "text/plain": [
       "array([ 2.15317939e+05, -6.98800501e+00, -1.06648333e+05, -2.98340676e+05,\n",
       "       -1.43894603e+05,  9.93838039e+04,  1.79595117e+04, -2.13557159e-04])"
      ]
     },
     "execution_count": 373,
     "metadata": {},
     "output_type": "execute_result"
    }
   ],
   "source": [
    "LinearReg.coef_"
   ]
  },
  {
   "cell_type": "code",
   "execution_count": null,
   "id": "10e30ec7-a84d-4d0b-b5bf-d4c0a23384c1",
   "metadata": {},
   "outputs": [],
   "source": [
    "LINEAR REGRESSION INTERCEPT"
   ]
  },
  {
   "cell_type": "code",
   "execution_count": 374,
   "id": "409e0b56-25dc-4863-a4f2-ab9a6cd624d8",
   "metadata": {},
   "outputs": [
    {
     "data": {
      "text/plain": [
       "1208273.2742731876"
      ]
     },
     "execution_count": 374,
     "metadata": {},
     "output_type": "execute_result"
    }
   ],
   "source": [
    "LinearReg.intercept_"
   ]
  },
  {
   "cell_type": "code",
   "execution_count": null,
   "id": "417d0a9f-1e85-4176-a1ac-f90c735ac0e3",
   "metadata": {},
   "outputs": [],
   "source": []
  },
  {
   "cell_type": "code",
   "execution_count": null,
   "id": "2006c5a5-9a89-425b-864f-4d11ae198eeb",
   "metadata": {},
   "outputs": [],
   "source": []
  },
  {
   "cell_type": "markdown",
   "id": "5cc59df4-1f2c-45f4-af7c-d8e3403c38ff",
   "metadata": {},
   "source": [
    "PYTHON TO GET DATA INSIGHTS"
   ]
  },
  {
   "cell_type": "code",
   "execution_count": null,
   "id": "82ea19be-bc27-464e-a14c-ce3b27ddb098",
   "metadata": {},
   "outputs": [],
   "source": []
  },
  {
   "cell_type": "code",
   "execution_count": null,
   "id": "66c8a5a9-bfa6-4955-b181-4b867ca1c808",
   "metadata": {},
   "outputs": [],
   "source": []
  },
  {
   "cell_type": "code",
   "execution_count": 399,
   "id": "620ae320-4ac4-4387-b879-7fad9dde6a42",
   "metadata": {},
   "outputs": [],
   "source": [
    "db3=pd.read_csv('car_price.csv')\n"
   ]
  },
  {
   "cell_type": "code",
   "execution_count": 400,
   "id": "513a6805-41f8-4c98-bc69-3974ee8d977f",
   "metadata": {},
   "outputs": [
    {
     "data": {
      "text/html": [
       "<div>\n",
       "<style scoped>\n",
       "    .dataframe tbody tr th:only-of-type {\n",
       "        vertical-align: middle;\n",
       "    }\n",
       "\n",
       "    .dataframe tbody tr th {\n",
       "        vertical-align: top;\n",
       "    }\n",
       "\n",
       "    .dataframe thead th {\n",
       "        text-align: right;\n",
       "    }\n",
       "</style>\n",
       "<table border=\"1\" class=\"dataframe\">\n",
       "  <thead>\n",
       "    <tr style=\"text-align: right;\">\n",
       "      <th></th>\n",
       "      <th>Unnamed: 0</th>\n",
       "      <th>Brand</th>\n",
       "      <th>Model</th>\n",
       "      <th>Varient</th>\n",
       "      <th>Manufacture Year</th>\n",
       "      <th>Driven Kilometers</th>\n",
       "      <th>Fuel</th>\n",
       "      <th>Number of Owner</th>\n",
       "      <th>Body Type</th>\n",
       "      <th>Location</th>\n",
       "      <th>Price</th>\n",
       "    </tr>\n",
       "  </thead>\n",
       "  <tbody>\n",
       "    <tr>\n",
       "      <th>0</th>\n",
       "      <td>0</td>\n",
       "      <td>Maruti</td>\n",
       "      <td>Zen</td>\n",
       "      <td>Estilo LXI</td>\n",
       "      <td>2011</td>\n",
       "      <td>24,337km</td>\n",
       "      <td>Petrol</td>\n",
       "      <td>First Owner</td>\n",
       "      <td>Hatchback</td>\n",
       "      <td>Delhi</td>\n",
       "      <td>210499.0</td>\n",
       "    </tr>\n",
       "    <tr>\n",
       "      <th>1</th>\n",
       "      <td>1</td>\n",
       "      <td>Maruti</td>\n",
       "      <td>Alto</td>\n",
       "      <td>K10 VXI</td>\n",
       "      <td>2018</td>\n",
       "      <td>5,198km</td>\n",
       "      <td>Petrol</td>\n",
       "      <td>First Owner</td>\n",
       "      <td>Hatchback</td>\n",
       "      <td>Delhi</td>\n",
       "      <td>343799.0</td>\n",
       "    </tr>\n",
       "    <tr>\n",
       "      <th>2</th>\n",
       "      <td>2</td>\n",
       "      <td>Maruti</td>\n",
       "      <td>Celerio</td>\n",
       "      <td>VXI AMT</td>\n",
       "      <td>2015</td>\n",
       "      <td>27,739km</td>\n",
       "      <td>Petrol</td>\n",
       "      <td>First Owner</td>\n",
       "      <td>Hatchback</td>\n",
       "      <td>Delhi</td>\n",
       "      <td>371199.0</td>\n",
       "    </tr>\n",
       "    <tr>\n",
       "      <th>3</th>\n",
       "      <td>3</td>\n",
       "      <td>Hyundai</td>\n",
       "      <td>i20</td>\n",
       "      <td>SPORTZ 1.2 VTVT</td>\n",
       "      <td>2014</td>\n",
       "      <td>25,187km</td>\n",
       "      <td>Petrol</td>\n",
       "      <td>First Owner</td>\n",
       "      <td>Hatchback</td>\n",
       "      <td>Delhi</td>\n",
       "      <td>360099.0</td>\n",
       "    </tr>\n",
       "    <tr>\n",
       "      <th>4</th>\n",
       "      <td>4</td>\n",
       "      <td>Maruti</td>\n",
       "      <td>S</td>\n",
       "      <td>PRESSO VXI PLUS</td>\n",
       "      <td>2020</td>\n",
       "      <td>7,556km</td>\n",
       "      <td>Petrol</td>\n",
       "      <td>First Owner</td>\n",
       "      <td>Hatchback</td>\n",
       "      <td>Delhi</td>\n",
       "      <td>415999.0</td>\n",
       "    </tr>\n",
       "  </tbody>\n",
       "</table>\n",
       "</div>"
      ],
      "text/plain": [
       "   Unnamed: 0    Brand    Model          Varient  Manufacture Year  \\\n",
       "0           0   Maruti      Zen       Estilo LXI              2011   \n",
       "1           1   Maruti     Alto          K10 VXI              2018   \n",
       "2           2   Maruti  Celerio          VXI AMT              2015   \n",
       "3           3  Hyundai      i20  SPORTZ 1.2 VTVT              2014   \n",
       "4           4   Maruti        S  PRESSO VXI PLUS              2020   \n",
       "\n",
       "  Driven Kilometers    Fuel Number of Owner  Body Type Location     Price  \n",
       "0          24,337km  Petrol     First Owner  Hatchback    Delhi  210499.0  \n",
       "1           5,198km  Petrol     First Owner  Hatchback    Delhi  343799.0  \n",
       "2          27,739km  Petrol     First Owner  Hatchback    Delhi  371199.0  \n",
       "3          25,187km  Petrol     First Owner  Hatchback    Delhi  360099.0  \n",
       "4           7,556km  Petrol     First Owner  Hatchback    Delhi  415999.0  "
      ]
     },
     "execution_count": 400,
     "metadata": {},
     "output_type": "execute_result"
    }
   ],
   "source": [
    "db3.head()"
   ]
  },
  {
   "cell_type": "code",
   "execution_count": null,
   "id": "d20cf224-c8d7-4db4-a9c2-4671d09801be",
   "metadata": {},
   "outputs": [],
   "source": []
  },
  {
   "cell_type": "code",
   "execution_count": 401,
   "id": "564e3de4-8d2a-4290-a582-2bd3b91d7341",
   "metadata": {},
   "outputs": [],
   "source": [
    "db3 = db3.rename(columns={'Unnamed: 0': 'index'})"
   ]
  },
  {
   "cell_type": "code",
   "execution_count": 402,
   "id": "a6cc8c96-4b5f-438a-ab31-d649bd9e579b",
   "metadata": {},
   "outputs": [],
   "source": [
    "db3.columns=db3.columns.str.lower()\n",
    "db3.columns=db3.columns.str.replace(' ','_') \n",
    "db3['driven_kilometers']=db3['driven_kilometers'].str.replace('km','')\n",
    "db3['driven_kilometers']=db3['driven_kilometers'].str.replace(',','')\n"
   ]
  },
  {
   "cell_type": "code",
   "execution_count": 406,
   "id": "0cc800cc-8bcf-41b2-91b2-5cb49ff166cb",
   "metadata": {},
   "outputs": [],
   "source": [
    "db3['driven_kilometers'] = pd.to_numeric(db3['driven_kilometers'], errors='coerce')\n",
    "db3=db3.drop(columns=['index'])"
   ]
  },
  {
   "cell_type": "code",
   "execution_count": 407,
   "id": "5d6d1641-28c1-4979-94af-ff472b81a6e1",
   "metadata": {},
   "outputs": [
    {
     "data": {
      "text/html": [
       "<div>\n",
       "<style scoped>\n",
       "    .dataframe tbody tr th:only-of-type {\n",
       "        vertical-align: middle;\n",
       "    }\n",
       "\n",
       "    .dataframe tbody tr th {\n",
       "        vertical-align: top;\n",
       "    }\n",
       "\n",
       "    .dataframe thead th {\n",
       "        text-align: right;\n",
       "    }\n",
       "</style>\n",
       "<table border=\"1\" class=\"dataframe\">\n",
       "  <thead>\n",
       "    <tr style=\"text-align: right;\">\n",
       "      <th></th>\n",
       "      <th>brand</th>\n",
       "      <th>model</th>\n",
       "      <th>varient</th>\n",
       "      <th>manufacture_year</th>\n",
       "      <th>driven_kilometers</th>\n",
       "      <th>fuel</th>\n",
       "      <th>number_of_owner</th>\n",
       "      <th>body_type</th>\n",
       "      <th>location</th>\n",
       "      <th>price</th>\n",
       "    </tr>\n",
       "  </thead>\n",
       "  <tbody>\n",
       "    <tr>\n",
       "      <th>0</th>\n",
       "      <td>Maruti</td>\n",
       "      <td>Zen</td>\n",
       "      <td>Estilo LXI</td>\n",
       "      <td>2011</td>\n",
       "      <td>24337.0</td>\n",
       "      <td>Petrol</td>\n",
       "      <td>First Owner</td>\n",
       "      <td>Hatchback</td>\n",
       "      <td>Delhi</td>\n",
       "      <td>210499.0</td>\n",
       "    </tr>\n",
       "    <tr>\n",
       "      <th>1</th>\n",
       "      <td>Maruti</td>\n",
       "      <td>Alto</td>\n",
       "      <td>K10 VXI</td>\n",
       "      <td>2018</td>\n",
       "      <td>5198.0</td>\n",
       "      <td>Petrol</td>\n",
       "      <td>First Owner</td>\n",
       "      <td>Hatchback</td>\n",
       "      <td>Delhi</td>\n",
       "      <td>343799.0</td>\n",
       "    </tr>\n",
       "    <tr>\n",
       "      <th>2</th>\n",
       "      <td>Maruti</td>\n",
       "      <td>Celerio</td>\n",
       "      <td>VXI AMT</td>\n",
       "      <td>2015</td>\n",
       "      <td>27739.0</td>\n",
       "      <td>Petrol</td>\n",
       "      <td>First Owner</td>\n",
       "      <td>Hatchback</td>\n",
       "      <td>Delhi</td>\n",
       "      <td>371199.0</td>\n",
       "    </tr>\n",
       "    <tr>\n",
       "      <th>3</th>\n",
       "      <td>Hyundai</td>\n",
       "      <td>i20</td>\n",
       "      <td>SPORTZ 1.2 VTVT</td>\n",
       "      <td>2014</td>\n",
       "      <td>25187.0</td>\n",
       "      <td>Petrol</td>\n",
       "      <td>First Owner</td>\n",
       "      <td>Hatchback</td>\n",
       "      <td>Delhi</td>\n",
       "      <td>360099.0</td>\n",
       "    </tr>\n",
       "    <tr>\n",
       "      <th>4</th>\n",
       "      <td>Maruti</td>\n",
       "      <td>S</td>\n",
       "      <td>PRESSO VXI PLUS</td>\n",
       "      <td>2020</td>\n",
       "      <td>7556.0</td>\n",
       "      <td>Petrol</td>\n",
       "      <td>First Owner</td>\n",
       "      <td>Hatchback</td>\n",
       "      <td>Delhi</td>\n",
       "      <td>415999.0</td>\n",
       "    </tr>\n",
       "  </tbody>\n",
       "</table>\n",
       "</div>"
      ],
      "text/plain": [
       "     brand    model          varient  manufacture_year  driven_kilometers  \\\n",
       "0   Maruti      Zen       Estilo LXI              2011            24337.0   \n",
       "1   Maruti     Alto          K10 VXI              2018             5198.0   \n",
       "2   Maruti  Celerio          VXI AMT              2015            27739.0   \n",
       "3  Hyundai      i20  SPORTZ 1.2 VTVT              2014            25187.0   \n",
       "4   Maruti        S  PRESSO VXI PLUS              2020             7556.0   \n",
       "\n",
       "     fuel number_of_owner  body_type location     price  \n",
       "0  Petrol     First Owner  Hatchback    Delhi  210499.0  \n",
       "1  Petrol     First Owner  Hatchback    Delhi  343799.0  \n",
       "2  Petrol     First Owner  Hatchback    Delhi  371199.0  \n",
       "3  Petrol     First Owner  Hatchback    Delhi  360099.0  \n",
       "4  Petrol     First Owner  Hatchback    Delhi  415999.0  "
      ]
     },
     "execution_count": 407,
     "metadata": {},
     "output_type": "execute_result"
    }
   ],
   "source": [
    "db3.head()"
   ]
  },
  {
   "cell_type": "code",
   "execution_count": 408,
   "id": "e57893b0-2895-4cdc-8638-1ae7b00752bd",
   "metadata": {},
   "outputs": [
    {
     "name": "stdout",
     "output_type": "stream",
     "text": [
      "<class 'pandas.core.frame.DataFrame'>\n",
      "RangeIndex: 10083 entries, 0 to 10082\n",
      "Data columns (total 10 columns):\n",
      " #   Column             Non-Null Count  Dtype  \n",
      "---  ------             --------------  -----  \n",
      " 0   brand              10083 non-null  object \n",
      " 1   model              10083 non-null  object \n",
      " 2   varient            10083 non-null  object \n",
      " 3   manufacture_year   10083 non-null  int64  \n",
      " 4   driven_kilometers  5825 non-null   float64\n",
      " 5   fuel               10083 non-null  object \n",
      " 6   number_of_owner    10083 non-null  object \n",
      " 7   body_type          10083 non-null  object \n",
      " 8   location           10083 non-null  object \n",
      " 9   price              10083 non-null  float64\n",
      "dtypes: float64(2), int64(1), object(7)\n",
      "memory usage: 787.9+ KB\n"
     ]
    }
   ],
   "source": [
    "db3.info()"
   ]
  },
  {
   "cell_type": "code",
   "execution_count": null,
   "id": "189c0ddc-32e0-46fb-b42a-0e3a942652ce",
   "metadata": {},
   "outputs": [],
   "source": [
    "\n"
   ]
  },
  {
   "cell_type": "code",
   "execution_count": 418,
   "id": "e2d535f1-0c7d-4809-bc1c-e73a992aab33",
   "metadata": {},
   "outputs": [
    {
     "data": {
      "text/plain": [
       "<Axes: xlabel='brand', ylabel='number of cars'>"
      ]
     },
     "execution_count": 418,
     "metadata": {},
     "output_type": "execute_result"
    },
    {
     "data": {
      "image/png": "[encoded data removed]",
      "text/plain": [
       "<Figure size 600x300 with 1 Axes>"
      ]
     },
     "metadata": {},
     "output_type": "display_data"
    }
   ],
   "source": [
    "plt.figure(figsize=(6,3))\n",
    "plt.ylabel('number of cars', size=12)\n",
    "db3['brand'].value_counts().plot(kind = 'bar')"
   ]
  },
  {
   "cell_type": "code",
   "execution_count": 427,
   "id": "747dbf8a-4877-4b0c-8841-350ae610470d",
   "metadata": {},
   "outputs": [
    {
     "data": {
      "image/png": "[encoded data removed]",
      "text/plain": [
       "<Figure size 600x300 with 1 Axes>"
      ]
     },
     "metadata": {},
     "output_type": "display_data"
    }
   ],
   "source": [
    "# year_count = db3['manufacture_year'].value_counts().sort_index()\n",
    "plt.figure(figsize=(6, 3))\n",
    "plt.bar(year_count.index, year_count.values)\n",
    "plt.xlabel('Manufacture Year')\n",
    "plt.ylabel('Number of Cars')\n",
    "plt.title('Number of Cars by Manufacture Year')\n",
    "plt.show()"
   ]
  },
  {
   "cell_type": "code",
   "execution_count": 428,
   "id": "88d10122-53e6-4005-a93d-1e9b0e2c2810",
   "metadata": {},
   "outputs": [
    {
     "data": {
      "text/plain": [
       "(10083, 10)"
      ]
     },
     "execution_count": 428,
     "metadata": {},
     "output_type": "execute_result"
    }
   ],
   "source": [
    "db3.shape"
   ]
  },
  {
   "cell_type": "code",
   "execution_count": 446,
   "id": "3a80f79c-5638-433d-a4ee-4bd01fb4261d",
   "metadata": {},
   "outputs": [
    {
     "data": {
      "image/png": "[encoded data removed]",
      "text/plain": [
       "<Figure size 1000x600 with 1 Axes>"
      ]
     },
     "metadata": {},
     "output_type": "display_data"
    }
   ],
   "source": [
    "avg_price_by_brand = db3.groupby('brand')['price'].mean().sort_values()\n",
    "\n",
    "\n",
    "plt.figure(figsize=(10, 6))\n",
    "avg_price_by_brand.plot(kind='bar')\n",
    "plt.xlabel('Brand')\n",
    "plt.ylabel('Average Price')\n",
    "plt.title('Average Price by Brand')\n",
    "plt.ticklabel_format(style='plain', axis='y')\n",
    "plt.show()"
   ]
  },
  {
   "cell_type": "code",
   "execution_count": 445,
   "id": "44cc1254-c858-4d9e-b241-a7e2a56b6fa5",
   "metadata": {},
   "outputs": [
    {
     "data": {
      "image/png": "[encoded data removed]",
      "text/plain": [
       "<Figure size 1000x600 with 1 Axes>"
      ]
     },
     "metadata": {},
     "output_type": "display_data"
    }
   ],
   "source": [
    "# Scatter plot of Price vs. Driven Kilometers\n",
    "plt.figure(figsize=(10, 6))\n",
    "plt.scatter(db3['driven_kilometers'], db3['price'], alpha=0.5)\n",
    "plt.xlabel('Driven Kilometers')\n",
    "plt.ylabel('Price')\n",
    "plt.title('Price vs. Driven Kilometers')\n",
    "plt.ticklabel_format(style='plain', axis='y')\n",
    "plt.tight_layout()\n",
    "plt.show()\n"
   ]
  },
  {
   "cell_type": "code",
   "execution_count": 444,
   "id": "5e60df59-9c65-4b21-a917-4db7c631d289",
   "metadata": {},
   "outputs": [
    {
     "data": {
      "image/png": "[encoded data removed]",
      "text/plain": [
       "<Figure size 1000x600 with 1 Axes>"
      ]
     },
     "metadata": {},
     "output_type": "display_data"
    }
   ],
   "source": [
    "avg_price_by_fuel = db3.groupby('fuel')['price'].mean().sort_values()\n",
    "\n",
    "# Plot\n",
    "plt.figure(figsize=(10, 6))\n",
    "avg_price_by_fuel.plot(kind='bar')\n",
    "plt.xlabel('Fuel Type')\n",
    "plt.ylabel('Average Price')\n",
    "plt.title('Average Price by Fuel Type')\n",
    "plt.ticklabel_format(style='plain', axis='y')\n",
    "plt.xticks(rotation=45)\n",
    "plt.tight_layout()\n",
    "plt.show()"
   ]
  },
  {
   "cell_type": "code",
   "execution_count": 443,
   "id": "7bef9e41-ed29-4b7e-ab50-c14fa72adc5c",
   "metadata": {},
   "outputs": [
    {
     "data": {
      "image/png": "[encoded data removed]",
      "text/plain": [
       "<Figure size 1000x600 with 1 Axes>"
      ]
     },
     "metadata": {},
     "output_type": "display_data"
    }
   ],
   "source": [
    "avg_price_by_owners = db3.groupby('number_of_owner')['price'].mean().sort_values()\n",
    "\n",
    "# Plot\n",
    "plt.figure(figsize=(10, 6))\n",
    "avg_price_by_owners.plot(kind='bar')\n",
    "plt.xlabel('Number of Owners')\n",
    "plt.ylabel('Average Price')\n",
    "plt.title('Average Price by Number of Owners')\n",
    "plt.ticklabel_format(style='plain', axis='y')\n",
    "plt.xticks(rotation=0)\n",
    "plt.tight_layout()\n",
    "plt.show()"
   ]
  },
  {
   "cell_type": "code",
   "execution_count": 442,
   "id": "ef9b2cd5-72d7-437a-9488-2e5840233e3a",
   "metadata": {},
   "outputs": [
    {
     "data": {
      "image/png": "[encoded data removed]",
      "text/plain": [
       "<Figure size 1000x600 with 1 Axes>"
      ]
     },
     "metadata": {},
     "output_type": "display_data"
    }
   ],
   "source": [
    "avg_price_by_location = db3.groupby('location')['price'].mean().sort_values()\n",
    "\n",
    "# Plot\n",
    "plt.figure(figsize=(10, 6))\n",
    "avg_price_by_location.plot(kind='bar')\n",
    "plt.xlabel('Location')\n",
    "plt.ylabel('Average Price')\n",
    "plt.title('Average Price by Location')\n",
    "plt.ticklabel_format(style='plain', axis='y')\n",
    "plt.xticks(rotation=45)\n",
    "plt.tight_layout()\n",
    "plt.show()"
   ]
  },
  {
   "cell_type": "code",
   "execution_count": null,
   "id": "3b362ad6-f543-4536-a636-653cd265402d",
   "metadata": {},
   "outputs": [],
   "source": []
  },
  {
   "cell_type": "code",
   "execution_count": null,
   "id": "633ed940-c9a1-4a40-ad6d-eac85a93b9c6",
   "metadata": {},
   "outputs": [],
   "source": []
  }
 ],
 "metadata": {
  "kernelspec": {
   "display_name": "Python 3",
   "language": "python",
   "name": "python3"
  },
  "language_info": {
   "codemirror_mode": {
    "name": "ipython",
    "version": 3
   },
   "file_extension": ".py",
   "mimetype": "text/x-python",
   "name": "python",
   "nbconvert_exporter": "python",
   "pygments_lexer": "ipython3",
   "version": "3.11.7"
  }
 },
 "nbformat": 4,
 "nbformat_minor": 5
}
